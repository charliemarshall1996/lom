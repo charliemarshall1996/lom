{
 "cells": [
  {
   "cell_type": "markdown",
   "metadata": {},
   "source": [
    "# LDA Optimization 1\n",
    "\n",
    "To ensure for the best model possible for each genre, I will iteratively optimize the model for the best possible performance in each genre. For this first set of optimization runs, I will cover a large search area over all of the appropriate parameters, to get a broad sense of which parameters matter most for the coherence score for the `gensim` `LdaModel`. \n",
    "\n",
    "After this, I will explore the outcomes of this optimization, visualizing which parameters have the largest impact on the coherence score. Taking this knowledge, I will further optimize the parameters in a successive optimization run.\n",
    "\n",
    "In order to conduct this primary run, I will use these libraries:\n",
    "- pandas\n",
    "- sci-kit learn (sklearn)\n",
    "- sci-kit optimize (skopt)\n",
    "- gensim\n",
    "\n",
    "Pandas, of course, is to load and prepare the data. I will follow this by using sci-kit learn's `TfidfVectorizer` and gensim's `Sparse2Corpus` and `Dictionary` to extract the features. Finally, I will use sci-kit optimize's `gp_minimize` to perform the optimization on gensim's `LdaModel`.\n",
    "\n",
    "The search space for the optimization run will be performed on these parameters of the `LdaModel`:\n",
    "- `num_topics`\n",
    "- `decay`\n",
    "- `gamma_threshold`\n",
    "- `minimum_probability`\n",
    "- `offset`\n",
    "- `iterations`\n",
    "\n",
    "The steps to perform this optimization are as follows:\n",
    "\n",
    "1. Import the libraries\n",
    "2. Import the data\n",
    "3. Iterate over each genre:\n",
    "    1. Obtain genre-specific lyrics\n",
    "    2. Turn lyrics into series\n",
    "    3. Clean the lyrics using the `clean_lyrics` function, from `clean.py`.\n",
    "    4. Extract features into doc-term matrix using `TfidfVectorizer`.\n",
    "    5. Create gensim corpus using `Sparse2Corpus`.\n",
    "    6. Create gensim `Dictionary`.\n",
    "    7. Initialize search space.\n",
    "    8. Optimize gensim `LdaModel` on the search space using `gp_minimize`.\n",
    "    9. Create results `DataFrame` and save results to `.csv` file using pandas.\n",
    "\n",
    "To build this, I will create two functions:\n",
    "\n",
    "1. A function to extract the features after cleaning.\n",
    "2. A function to optimize the model.\n",
    "\n",
    "The functions will then be called, after preparing the genres data, within the `for` loop of genres.\n"
   ]
  },
  {
   "cell_type": "markdown",
   "metadata": {},
   "source": [
    "## Importing the libraries\n",
    "\n",
    "As mentioned, I will first import the necessary libraries. I will also import the `clean_lyrics` function from `src`."
   ]
  },
  {
   "cell_type": "code",
   "execution_count": null,
   "metadata": {},
   "outputs": [],
   "source": [
    "from gensim.corpora import Dictionary\n",
    "from gensim.matutils import Sparse2Corpus\n",
    "from gensim.models import LdaModel, CoherenceModel\n",
    "import numpy as np\n",
    "import pandas as pd\n",
    "from sklearn.feature_extraction.text import TfidfVectorizer\n",
    "from skopt import gp_minimize\n",
    "from skopt.space import Integer, Real\n",
    "from skopt.utils import use_named_args\n",
    "\n",
    "from src.clean import clean_lyrics"
   ]
  },
  {
   "cell_type": "markdown",
   "metadata": {},
   "source": [
    "## Import data\n",
    "\n",
    "The next step is to import the data."
   ]
  },
  {
   "cell_type": "code",
   "execution_count": null,
   "metadata": {},
   "outputs": [],
   "source": [
    "# Import data\n",
    "data = pd.read_csv(\"../../../data/raw/song_lyrics_sampled.csv\")"
   ]
  },
  {
   "cell_type": "markdown",
   "metadata": {},
   "source": [
    "## Extract features\n",
    "\n",
    "Here, I will use Term Frequency Inverse-Document Frequency (TFIDF) to extract the features of the corpus into a doc-term matrix. The purpose for the use of TFIDF over a simple Bag of Words (BoW) model, is so that the quality of topics may be improved within the LDA "
   ]
  }
 ],
 "metadata": {
  "kernelspec": {
   "display_name": ".venv",
   "language": "python",
   "name": "python3"
  },
  "language_info": {
   "name": "python",
   "version": "3.12.1"
  }
 },
 "nbformat": 4,
 "nbformat_minor": 2
}
