{
 "cells": [
  {
   "cell_type": "markdown",
   "metadata": {},
   "source": [
    "# Extraction Optimization\n",
    "\n",
    "In this notebook, I will optimize the method of extraction for the LDA models topic coherence between two choices:\n",
    "1. Term Frequency-Inverse Document Frequency (TF-IDF)\n",
    "2. Bag of Words (BoW)\n",
    "\n",
    "Although typically bag-of-words is the common form of method extraction for Latent Dirichlet Allocation, it may not be sufficient for my specific use case, requiring high-quality topics per genre. Bag of words simply identifies word frequencies, whereas TF-IDF penalizes words that may occur to often. There's potential, for this specific use case, that TF-IDF **might** lead to more coherent, better quality output.\n",
    "\n",
    "However, this is not the only consideration to make. LDA expects a bag-of-words, rather than TF-IDF. As such, using TF-IDF may skew the natural frequency signal that LDA relies on, potentially leading to a loss of topical coherence. Beyond this, commonly used terms sometimes help in defining topics. TF-IDF may lead of underweighting in common terms, leading to their loss in contributing to topic definitions.\n",
    "\n",
    "There doesn't appear to be much of a consensus online about which form of feature extraction for LDA is better for topic modelling, so in this notebook, I will try to identify which method of feature extraction is best for *my use case*. To do this, I will first pre-process the documents using the `clean_lyrics` function. This is an adapted form of the preprocessing found in `preprocessing` notebook. Next, I will create two separate functions, one using TFIDF and another using BoW, these will be the variables of my search space for the optimization. After this, I will create a tertiary function to conduct the optimization using sci-kit optimize. Finally, I will call the optimization function on my data."
   ]
  },
  {
   "cell_type": "markdown",
   "metadata": {},
   "source": [
    "## PreProcessing\n",
    "\n",
    "Here, I will import my dataset and PreProcess it ready for the optimization. This takes several steps:\n",
    "1. Import pandas and clean_lyrics.\n",
    "2. Import dataset using `pd.read_csv()`.\n",
    "3. Turn the lyrics into a `Series` object.\n",
    "4. Call `clean_lyrics`.\n",
    "\n",
    "So, first, importing:"
   ]
  },
  {
   "cell_type": "code",
   "execution_count": 5,
   "metadata": {},
   "outputs": [],
   "source": [
    "# Import pandas\n",
    "import pandas as pd\n"
   ]
  },
  {
   "cell_type": "markdown",
   "metadata": {},
   "source": [
    "Now to import the data as a `DataFrame` using `pd.read_csv()`:"
   ]
  },
  {
   "cell_type": "code",
   "execution_count": 6,
   "metadata": {},
   "outputs": [],
   "source": [
    "# Import dataset\n",
    "data = pd.read_csv(\"../../../data/raw/song_lyrics_sampled.csv\")"
   ]
  },
  {
   "cell_type": "markdown",
   "metadata": {},
   "source": [
    "Turn the `DataFrame` object into a `Series` object of just the lyrics:"
   ]
  },
  {
   "cell_type": "code",
   "execution_count": 7,
   "metadata": {},
   "outputs": [],
   "source": [
    "# Get Series of lyrics\n",
    "data = data.lyrics"
   ]
  },
  {
   "cell_type": "markdown",
   "metadata": {},
   "source": [
    "Clean the lyrics using the `clean_lyrics` function. Here, you'll notice that `remove_adlibs` and `remove_min_len_adlibs` are set to `False`. This is because I have identified that keeping them in actually adds to the coherence and quality of topics. Also, unlike the method of the `preprocessing` notebook, the function returns two items:\n",
    "1. A `Series` of clean, tokenized lyrics.\n",
    "2. A `Series` of cleaned lyrics in a string.\n",
    "\n",
    "Returning both allows for the use of `c_v` coherence within Gensim's `CoherenceModel`."
   ]
  },
  {
   "cell_type": "code",
   "execution_count": 8,
   "metadata": {},
   "outputs": [
    {
     "name": "stdout",
     "output_type": "stream",
     "text": [
      "Starting cleaning...\n",
      "Lowercasing lyrics...\n",
      "Normalizing unicode...\n",
      "Removing square brackets...\n",
      "Removing regular brackets...\n",
      "Removing newline characters...\n",
      "Removing carriage return characters...\n",
      "Removing whitespace...\n",
      "Removing punctuation...\n",
      "Tokenizing lyrics...\n",
      "Mapping vocabulary...\n",
      "Tagging part-of-speech...\n",
      "Filtering part-of-speech...\n",
      "Lemmatizing part-of-speech...\n",
      "Removing stopwords...\n"
     ]
    },
    {
     "ename": "TypeError",
     "evalue": "remove_stopwords() takes 2 positional arguments but 7 were given",
     "output_type": "error",
     "traceback": [
      "\u001b[1;31m---------------------------------------------------------------------------\u001b[0m",
      "\u001b[1;31mTypeError\u001b[0m                                 Traceback (most recent call last)",
      "Cell \u001b[1;32mIn[8], line 10\u001b[0m\n\u001b[0;32m      8\u001b[0m \u001b[38;5;66;03m# Clean the lyrics\u001b[39;00m\n\u001b[0;32m      9\u001b[0m cleaner \u001b[38;5;241m=\u001b[39m LyricsCleaner(stopwords, contractions, dropped_gs, verbose\u001b[38;5;241m=\u001b[39m\u001b[38;5;28;01mTrue\u001b[39;00m, remove_adlibs\u001b[38;5;241m=\u001b[39m\u001b[38;5;28;01mFalse\u001b[39;00m, remove_min_len_adlibs\u001b[38;5;241m=\u001b[39m\u001b[38;5;28;01mFalse\u001b[39;00m)\n\u001b[1;32m---> 10\u001b[0m lyrics, text \u001b[38;5;241m=\u001b[39m \u001b[43mcleaner\u001b[49m\u001b[38;5;241;43m.\u001b[39;49m\u001b[43mclean_lyrics\u001b[49m\u001b[43m(\u001b[49m\u001b[43mdata\u001b[49m\u001b[43m)\u001b[49m\n",
      "File \u001b[1;32m~\\Documents\\GitHub\\lom\\src\\clean\\lyrics_cleaner_class.py:188\u001b[0m, in \u001b[0;36mLyricsCleaner.clean_lyrics\u001b[1;34m(self, series)\u001b[0m\n\u001b[0;32m    186\u001b[0m     \u001b[38;5;28;01mif\u001b[39;00m \u001b[38;5;28mself\u001b[39m\u001b[38;5;241m.\u001b[39mverbose:\n\u001b[0;32m    187\u001b[0m         \u001b[38;5;28mprint\u001b[39m(\u001b[38;5;124m\"\u001b[39m\u001b[38;5;124mRemoving stopwords...\u001b[39m\u001b[38;5;124m\"\u001b[39m)\n\u001b[1;32m--> 188\u001b[0m     series \u001b[38;5;241m=\u001b[39m \u001b[43mseries\u001b[49m\u001b[38;5;241;43m.\u001b[39;49m\u001b[43mapply\u001b[49m\u001b[43m(\u001b[49m\u001b[43mremove_stopwords\u001b[49m\u001b[43m,\u001b[49m\u001b[43m \u001b[49m\u001b[43margs\u001b[49m\u001b[38;5;241;43m=\u001b[39;49m\u001b[43m(\u001b[49m\u001b[38;5;28;43mself\u001b[39;49m\u001b[38;5;241;43m.\u001b[39;49m\u001b[43mstop_words\u001b[49m\u001b[43m)\u001b[49m\u001b[43m)\u001b[49m\n\u001b[0;32m    190\u001b[0m \u001b[38;5;66;03m# rejoin to string\u001b[39;00m\n\u001b[0;32m    191\u001b[0m joined_lyrics \u001b[38;5;241m=\u001b[39m series\u001b[38;5;241m.\u001b[39mstr\u001b[38;5;241m.\u001b[39mjoin(\u001b[38;5;124m\"\u001b[39m\u001b[38;5;124m \u001b[39m\u001b[38;5;124m\"\u001b[39m)\u001b[38;5;241m.\u001b[39mto_list()\n",
      "File \u001b[1;32mc:\\Users\\charl.DESKTOP-1NGH5IT\\Documents\\GitHub\\lom\\.venv\\Lib\\site-packages\\pandas\\core\\series.py:4924\u001b[0m, in \u001b[0;36mSeries.apply\u001b[1;34m(self, func, convert_dtype, args, by_row, **kwargs)\u001b[0m\n\u001b[0;32m   4789\u001b[0m \u001b[38;5;28;01mdef\u001b[39;00m \u001b[38;5;21mapply\u001b[39m(\n\u001b[0;32m   4790\u001b[0m     \u001b[38;5;28mself\u001b[39m,\n\u001b[0;32m   4791\u001b[0m     func: AggFuncType,\n\u001b[1;32m   (...)\u001b[0m\n\u001b[0;32m   4796\u001b[0m     \u001b[38;5;241m*\u001b[39m\u001b[38;5;241m*\u001b[39mkwargs,\n\u001b[0;32m   4797\u001b[0m ) \u001b[38;5;241m-\u001b[39m\u001b[38;5;241m>\u001b[39m DataFrame \u001b[38;5;241m|\u001b[39m Series:\n\u001b[0;32m   4798\u001b[0m \u001b[38;5;250m    \u001b[39m\u001b[38;5;124;03m\"\"\"\u001b[39;00m\n\u001b[0;32m   4799\u001b[0m \u001b[38;5;124;03m    Invoke function on values of Series.\u001b[39;00m\n\u001b[0;32m   4800\u001b[0m \n\u001b[1;32m   (...)\u001b[0m\n\u001b[0;32m   4915\u001b[0m \u001b[38;5;124;03m    dtype: float64\u001b[39;00m\n\u001b[0;32m   4916\u001b[0m \u001b[38;5;124;03m    \"\"\"\u001b[39;00m\n\u001b[0;32m   4917\u001b[0m     \u001b[38;5;28;01mreturn\u001b[39;00m \u001b[43mSeriesApply\u001b[49m\u001b[43m(\u001b[49m\n\u001b[0;32m   4918\u001b[0m \u001b[43m        \u001b[49m\u001b[38;5;28;43mself\u001b[39;49m\u001b[43m,\u001b[49m\n\u001b[0;32m   4919\u001b[0m \u001b[43m        \u001b[49m\u001b[43mfunc\u001b[49m\u001b[43m,\u001b[49m\n\u001b[0;32m   4920\u001b[0m \u001b[43m        \u001b[49m\u001b[43mconvert_dtype\u001b[49m\u001b[38;5;241;43m=\u001b[39;49m\u001b[43mconvert_dtype\u001b[49m\u001b[43m,\u001b[49m\n\u001b[0;32m   4921\u001b[0m \u001b[43m        \u001b[49m\u001b[43mby_row\u001b[49m\u001b[38;5;241;43m=\u001b[39;49m\u001b[43mby_row\u001b[49m\u001b[43m,\u001b[49m\n\u001b[0;32m   4922\u001b[0m \u001b[43m        \u001b[49m\u001b[43margs\u001b[49m\u001b[38;5;241;43m=\u001b[39;49m\u001b[43margs\u001b[49m\u001b[43m,\u001b[49m\n\u001b[0;32m   4923\u001b[0m \u001b[43m        \u001b[49m\u001b[43mkwargs\u001b[49m\u001b[38;5;241;43m=\u001b[39;49m\u001b[43mkwargs\u001b[49m\u001b[43m,\u001b[49m\n\u001b[1;32m-> 4924\u001b[0m \u001b[43m    \u001b[49m\u001b[43m)\u001b[49m\u001b[38;5;241;43m.\u001b[39;49m\u001b[43mapply\u001b[49m\u001b[43m(\u001b[49m\u001b[43m)\u001b[49m\n",
      "File \u001b[1;32mc:\\Users\\charl.DESKTOP-1NGH5IT\\Documents\\GitHub\\lom\\.venv\\Lib\\site-packages\\pandas\\core\\apply.py:1427\u001b[0m, in \u001b[0;36mSeriesApply.apply\u001b[1;34m(self)\u001b[0m\n\u001b[0;32m   1424\u001b[0m     \u001b[38;5;28;01mreturn\u001b[39;00m \u001b[38;5;28mself\u001b[39m\u001b[38;5;241m.\u001b[39mapply_compat()\n\u001b[0;32m   1426\u001b[0m \u001b[38;5;66;03m# self.func is Callable\u001b[39;00m\n\u001b[1;32m-> 1427\u001b[0m \u001b[38;5;28;01mreturn\u001b[39;00m \u001b[38;5;28;43mself\u001b[39;49m\u001b[38;5;241;43m.\u001b[39;49m\u001b[43mapply_standard\u001b[49m\u001b[43m(\u001b[49m\u001b[43m)\u001b[49m\n",
      "File \u001b[1;32mc:\\Users\\charl.DESKTOP-1NGH5IT\\Documents\\GitHub\\lom\\.venv\\Lib\\site-packages\\pandas\\core\\apply.py:1507\u001b[0m, in \u001b[0;36mSeriesApply.apply_standard\u001b[1;34m(self)\u001b[0m\n\u001b[0;32m   1501\u001b[0m \u001b[38;5;66;03m# row-wise access\u001b[39;00m\n\u001b[0;32m   1502\u001b[0m \u001b[38;5;66;03m# apply doesn't have a `na_action` keyword and for backward compat reasons\u001b[39;00m\n\u001b[0;32m   1503\u001b[0m \u001b[38;5;66;03m# we need to give `na_action=\"ignore\"` for categorical data.\u001b[39;00m\n\u001b[0;32m   1504\u001b[0m \u001b[38;5;66;03m# TODO: remove the `na_action=\"ignore\"` when that default has been changed in\u001b[39;00m\n\u001b[0;32m   1505\u001b[0m \u001b[38;5;66;03m#  Categorical (GH51645).\u001b[39;00m\n\u001b[0;32m   1506\u001b[0m action \u001b[38;5;241m=\u001b[39m \u001b[38;5;124m\"\u001b[39m\u001b[38;5;124mignore\u001b[39m\u001b[38;5;124m\"\u001b[39m \u001b[38;5;28;01mif\u001b[39;00m \u001b[38;5;28misinstance\u001b[39m(obj\u001b[38;5;241m.\u001b[39mdtype, CategoricalDtype) \u001b[38;5;28;01melse\u001b[39;00m \u001b[38;5;28;01mNone\u001b[39;00m\n\u001b[1;32m-> 1507\u001b[0m mapped \u001b[38;5;241m=\u001b[39m \u001b[43mobj\u001b[49m\u001b[38;5;241;43m.\u001b[39;49m\u001b[43m_map_values\u001b[49m\u001b[43m(\u001b[49m\n\u001b[0;32m   1508\u001b[0m \u001b[43m    \u001b[49m\u001b[43mmapper\u001b[49m\u001b[38;5;241;43m=\u001b[39;49m\u001b[43mcurried\u001b[49m\u001b[43m,\u001b[49m\u001b[43m \u001b[49m\u001b[43mna_action\u001b[49m\u001b[38;5;241;43m=\u001b[39;49m\u001b[43maction\u001b[49m\u001b[43m,\u001b[49m\u001b[43m \u001b[49m\u001b[43mconvert\u001b[49m\u001b[38;5;241;43m=\u001b[39;49m\u001b[38;5;28;43mself\u001b[39;49m\u001b[38;5;241;43m.\u001b[39;49m\u001b[43mconvert_dtype\u001b[49m\n\u001b[0;32m   1509\u001b[0m \u001b[43m\u001b[49m\u001b[43m)\u001b[49m\n\u001b[0;32m   1511\u001b[0m \u001b[38;5;28;01mif\u001b[39;00m \u001b[38;5;28mlen\u001b[39m(mapped) \u001b[38;5;129;01mand\u001b[39;00m \u001b[38;5;28misinstance\u001b[39m(mapped[\u001b[38;5;241m0\u001b[39m], ABCSeries):\n\u001b[0;32m   1512\u001b[0m     \u001b[38;5;66;03m# GH#43986 Need to do list(mapped) in order to get treated as nested\u001b[39;00m\n\u001b[0;32m   1513\u001b[0m     \u001b[38;5;66;03m#  See also GH#25959 regarding EA support\u001b[39;00m\n\u001b[0;32m   1514\u001b[0m     \u001b[38;5;28;01mreturn\u001b[39;00m obj\u001b[38;5;241m.\u001b[39m_constructor_expanddim(\u001b[38;5;28mlist\u001b[39m(mapped), index\u001b[38;5;241m=\u001b[39mobj\u001b[38;5;241m.\u001b[39mindex)\n",
      "File \u001b[1;32mc:\\Users\\charl.DESKTOP-1NGH5IT\\Documents\\GitHub\\lom\\.venv\\Lib\\site-packages\\pandas\\core\\base.py:921\u001b[0m, in \u001b[0;36mIndexOpsMixin._map_values\u001b[1;34m(self, mapper, na_action, convert)\u001b[0m\n\u001b[0;32m    918\u001b[0m \u001b[38;5;28;01mif\u001b[39;00m \u001b[38;5;28misinstance\u001b[39m(arr, ExtensionArray):\n\u001b[0;32m    919\u001b[0m     \u001b[38;5;28;01mreturn\u001b[39;00m arr\u001b[38;5;241m.\u001b[39mmap(mapper, na_action\u001b[38;5;241m=\u001b[39mna_action)\n\u001b[1;32m--> 921\u001b[0m \u001b[38;5;28;01mreturn\u001b[39;00m \u001b[43malgorithms\u001b[49m\u001b[38;5;241;43m.\u001b[39;49m\u001b[43mmap_array\u001b[49m\u001b[43m(\u001b[49m\u001b[43marr\u001b[49m\u001b[43m,\u001b[49m\u001b[43m \u001b[49m\u001b[43mmapper\u001b[49m\u001b[43m,\u001b[49m\u001b[43m \u001b[49m\u001b[43mna_action\u001b[49m\u001b[38;5;241;43m=\u001b[39;49m\u001b[43mna_action\u001b[49m\u001b[43m,\u001b[49m\u001b[43m \u001b[49m\u001b[43mconvert\u001b[49m\u001b[38;5;241;43m=\u001b[39;49m\u001b[43mconvert\u001b[49m\u001b[43m)\u001b[49m\n",
      "File \u001b[1;32mc:\\Users\\charl.DESKTOP-1NGH5IT\\Documents\\GitHub\\lom\\.venv\\Lib\\site-packages\\pandas\\core\\algorithms.py:1743\u001b[0m, in \u001b[0;36mmap_array\u001b[1;34m(arr, mapper, na_action, convert)\u001b[0m\n\u001b[0;32m   1741\u001b[0m values \u001b[38;5;241m=\u001b[39m arr\u001b[38;5;241m.\u001b[39mastype(\u001b[38;5;28mobject\u001b[39m, copy\u001b[38;5;241m=\u001b[39m\u001b[38;5;28;01mFalse\u001b[39;00m)\n\u001b[0;32m   1742\u001b[0m \u001b[38;5;28;01mif\u001b[39;00m na_action \u001b[38;5;129;01mis\u001b[39;00m \u001b[38;5;28;01mNone\u001b[39;00m:\n\u001b[1;32m-> 1743\u001b[0m     \u001b[38;5;28;01mreturn\u001b[39;00m \u001b[43mlib\u001b[49m\u001b[38;5;241;43m.\u001b[39;49m\u001b[43mmap_infer\u001b[49m\u001b[43m(\u001b[49m\u001b[43mvalues\u001b[49m\u001b[43m,\u001b[49m\u001b[43m \u001b[49m\u001b[43mmapper\u001b[49m\u001b[43m,\u001b[49m\u001b[43m \u001b[49m\u001b[43mconvert\u001b[49m\u001b[38;5;241;43m=\u001b[39;49m\u001b[43mconvert\u001b[49m\u001b[43m)\u001b[49m\n\u001b[0;32m   1744\u001b[0m \u001b[38;5;28;01melse\u001b[39;00m:\n\u001b[0;32m   1745\u001b[0m     \u001b[38;5;28;01mreturn\u001b[39;00m lib\u001b[38;5;241m.\u001b[39mmap_infer_mask(\n\u001b[0;32m   1746\u001b[0m         values, mapper, mask\u001b[38;5;241m=\u001b[39misna(values)\u001b[38;5;241m.\u001b[39mview(np\u001b[38;5;241m.\u001b[39muint8), convert\u001b[38;5;241m=\u001b[39mconvert\n\u001b[0;32m   1747\u001b[0m     )\n",
      "File \u001b[1;32mlib.pyx:2972\u001b[0m, in \u001b[0;36mpandas._libs.lib.map_infer\u001b[1;34m()\u001b[0m\n",
      "File \u001b[1;32mc:\\Users\\charl.DESKTOP-1NGH5IT\\Documents\\GitHub\\lom\\.venv\\Lib\\site-packages\\pandas\\core\\apply.py:1496\u001b[0m, in \u001b[0;36mSeriesApply.apply_standard.<locals>.curried\u001b[1;34m(x)\u001b[0m\n\u001b[0;32m   1495\u001b[0m \u001b[38;5;28;01mdef\u001b[39;00m \u001b[38;5;21mcurried\u001b[39m(x):\n\u001b[1;32m-> 1496\u001b[0m     \u001b[38;5;28;01mreturn\u001b[39;00m \u001b[43mfunc\u001b[49m\u001b[43m(\u001b[49m\u001b[43mx\u001b[49m\u001b[43m,\u001b[49m\u001b[43m \u001b[49m\u001b[38;5;241;43m*\u001b[39;49m\u001b[38;5;28;43mself\u001b[39;49m\u001b[38;5;241;43m.\u001b[39;49m\u001b[43margs\u001b[49m\u001b[43m,\u001b[49m\u001b[43m \u001b[49m\u001b[38;5;241;43m*\u001b[39;49m\u001b[38;5;241;43m*\u001b[39;49m\u001b[38;5;28;43mself\u001b[39;49m\u001b[38;5;241;43m.\u001b[39;49m\u001b[43mkwargs\u001b[49m\u001b[43m)\u001b[49m\n",
      "\u001b[1;31mTypeError\u001b[0m: remove_stopwords() takes 2 positional arguments but 7 were given"
     ]
    }
   ],
   "source": [
    "from src.clean.lyrics_cleaner_class import LyricsCleaner\n",
    "from src.utils import txt_to_set, read_json_mapping\n",
    "stopwords = txt_to_set(\"../../../data/vocab/stopwords.txt\")\n",
    "contractions = read_json_mapping(\"../../../data/vocab/contractions.json\")\n",
    "dropped_gs = read_json_mapping(\"../../../data/vocab/dropped_gs.json\")\n",
    "\n",
    "\n",
    "# Clean the lyrics\n",
    "cleaner = LyricsCleaner(stopwords, contractions, dropped_gs, verbose=True, remove_adlibs=False, remove_min_len_adlibs=False)\n",
    "lyrics, text = cleaner.clean_lyrics(data)"
   ]
  },
  {
   "cell_type": "markdown",
   "metadata": {},
   "source": [
    "## Extraction Method 1 - Term Frequency-Inverse Document Frequency\n",
    "\n",
    "Now I need to build the first extraction function for term frequency-inverse document frequency. In order to do this, I will use sci-kit learn's `TfidfVectorizer` class, along with gensim's `Sparse2Corpus` and `Dictionary` to turn the doc-term matrix into a corpus and dictionary that are valid for gensim's `LdaModel`, respectively.\n",
    "\n",
    "The first step is to import these:"
   ]
  },
  {
   "cell_type": "code",
   "execution_count": null,
   "metadata": {},
   "outputs": [],
   "source": [
    "#import vectorizer\n",
    "from sklearn.feature_extraction.text import TfidfVectorizer\n",
    "\n",
    "# Import gensim Sparse2Corp and Dictionary\n",
    "from gensim.matutils import Sparse2Corpus\n",
    "from gensim.corpora import Dictionary"
   ]
  },
  {
   "cell_type": "markdown",
   "metadata": {},
   "source": [
    "Finally, I will build the function to extract features. First, it will vectorize the cleaned lyrics, before turning them into a corpus and dictionary:"
   ]
  },
  {
   "cell_type": "code",
   "execution_count": null,
   "metadata": {},
   "outputs": [],
   "source": [
    "def tfidf_extract(lyrics):\n",
    "    # initialize vectorizer\n",
    "    vec = TfidfVectorizer(lowercase=False)\n",
    "    \n",
    "    # Get doc-term matrix\n",
    "    dtm = vec.fit_transform(lyrics)\n",
    "    \n",
    "    # Build corpus\n",
    "    corpus = Sparse2Corpus(dtm, documents_columns=False)\n",
    "    \n",
    "    # Build dictionary from corpus and vocab\n",
    "    vocab = vec.vocabulary_.items()\n",
    "    dictionary = Dictionary.from_corpus(\n",
    "        corpus, id2word={v: k for k, v in vocab})\n",
    "    \n",
    "    return dictionary, corpus"
   ]
  },
  {
   "cell_type": "markdown",
   "metadata": {},
   "source": [
    "## Extraction Method 2 - Bag of Words\n",
    "\n",
    "Here, I will create a function that implements the extraction of features into a bag of words. This method is far simpler and will only require me to use gensim's dictionary and a little bit of list comprehension:"
   ]
  },
  {
   "cell_type": "code",
   "execution_count": null,
   "metadata": {},
   "outputs": [],
   "source": [
    "def bow_extract(texts):\n",
    "    dictionary = Dictionary(texts)\n",
    "    corpus = [dictionary.doc2bow(doc) for doc in texts]\n",
    "    return dictionary, corpus"
   ]
  },
  {
   "cell_type": "markdown",
   "metadata": {},
   "source": [
    "## Optimization\n",
    "\n",
    "Finally, it's time to implement the optimization on my dataset. Here I will:\n",
    "1. Import `LdaModel` and `CoherenceModel` from gensim, and `gp_minimize` from sci-kit optimize.\n",
    "2. Define the objective function to optimize the feature extraction method.\n",
    "3. Run the optimization to find the best model based on mean coherence score for k-folds."
   ]
  },
  {
   "cell_type": "code",
   "execution_count": null,
   "metadata": {},
   "outputs": [],
   "source": [
    "# Import LDAModel & CoherenceModel\n",
    "from gensim.models import LdaModel, CoherenceModel\n",
    "\n",
    "# Import from skopt\n",
    "from skopt.space import Categorical, Integer\n",
    "from skopt import gp_minimize\n",
    "from skopt.utils import use_named_args"
   ]
  },
  {
   "cell_type": "markdown",
   "metadata": {},
   "source": [
    "Now I must define the search space:"
   ]
  },
  {
   "cell_type": "code",
   "execution_count": null,
   "metadata": {},
   "outputs": [],
   "source": [
    "space = {'methods': ['tfidf', 'bow'],\n",
    "                'num_topics': [1, 50, 100]}"
   ]
  },
  {
   "cell_type": "markdown",
   "metadata": {},
   "source": [
    "Now for the objective function:"
   ]
  },
  {
   "cell_type": "code",
   "execution_count": null,
   "metadata": {},
   "outputs": [],
   "source": [
    "\n",
    "from sklearn.model_selection import KFold\n",
    "import numpy as np\n",
    "\n",
    "kf = KFold(n_splits=11, shuffle=True, random_state=42)\n",
    "kf.get_n_splits(lyrics)\n",
    "\n",
    "# Define objective function\n",
    "def objective(**params):\n",
    "\n",
    "    # Initialize results dictionary\n",
    "    results = params.copy()\n",
    "\n",
    "    # Initialize coherences list\n",
    "    coherences = []\n",
    "\n",
    "    # Iterate over splits\n",
    "    for i, (train_i, _) in enumerate(kf.split(lyrics, text)):\n",
    "\n",
    "        # Get lyrics & Text for splits\n",
    "        train_lyrics = [lyrics[i] for i in train_i]\n",
    "        train_text = [text[i] for i in train_i]\n",
    "\n",
    "        print(f\"Scoring folds {i+1}/11...\")\n",
    "\n",
    "        # Perform feature extraction based on params\n",
    "        if params.get(\"method\") == \"tfidf\":\n",
    "            dictionary, corpus = tfidf_extract(train_lyrics)\n",
    "\n",
    "        elif params.get(\"method\") == \"bow\":\n",
    "            dictionary, corpus = bow_extract(train_text)\n",
    "\n",
    "        model = LdaModel(corpus=corpus, id2word=dictionary,\n",
    "                            num_topics=params.get(\"num_topics\"))\n",
    "\n",
    "        # Score model\n",
    "        coherence_model = CoherenceModel(\n",
    "            model, texts=train_text, dictionary=dictionary)\n",
    "        score = coherence_model.get_coherence()\n",
    "        print(f\"Score received for fold {i+1}: {score}\\n\")\n",
    "        print(f\"Params:\\n-------\")\n",
    "        print(f\"method: {params['method']}\\nnum_topics: {params['num_topics']}\\n\")  # noqa\n",
    "\n",
    "        # Append score to coherences\n",
    "        coherences.append(score)\n",
    "\n",
    "        # Add fold score to results\n",
    "        results[f'fold {i+1} score'] = score\n",
    "\n",
    "    # Add mean_score variable to observation\n",
    "    results['mean score'] = np.mean(coherences)\n",
    "\n",
    "    # Return results dict\n",
    "    return results"
   ]
  },
  {
   "cell_type": "markdown",
   "metadata": {},
   "source": [
    "Finally, it's time to implement the optimization:"
   ]
  },
  {
   "cell_type": "code",
   "execution_count": null,
   "metadata": {},
   "outputs": [],
   "source": [
    "\n",
    "# Iterate over search space\n",
    "results_list = []\n",
    "for method in space[\"methods\"]:\n",
    "    for num_topics in space[\"num_topics\"]:\n",
    "        results_list.append(\n",
    "            objective(method=method, num_topics=num_topics))\n",
    "\n",
    "# Extract results into a DataFrame\n",
    "params_df = pd.DataFrame(results_list)\n",
    "\n",
    "# Save to .csv\n",
    "params_df.to_csv(f\"../../../data/optimization/extraction_optimized.csv\")"
   ]
  }
 ],
 "metadata": {
  "kernelspec": {
   "display_name": ".venv",
   "language": "python",
   "name": "python3"
  },
  "language_info": {
   "codemirror_mode": {
    "name": "ipython",
    "version": 3
   },
   "file_extension": ".py",
   "mimetype": "text/x-python",
   "name": "python",
   "nbconvert_exporter": "python",
   "pygments_lexer": "ipython3",
   "version": "3.12.1"
  }
 },
 "nbformat": 4,
 "nbformat_minor": 2
}
