{
 "cells": [
  {
   "cell_type": "markdown",
   "metadata": {},
   "source": [
    "# Language of Music - Preprocessing\n",
    "\n",
    "This notebook describes and walks through the process of cleaning and normalizing lyrics for use in topic modelling.\n",
    "\n",
    "It takes place in two parts:\n",
    "- Loading the data\n",
    "- Preprocessing the data"
   ]
  },
  {
   "cell_type": "markdown",
   "metadata": {},
   "source": [
    "## Loading the Data\n",
    "\n",
    "To load and manipulate the data, stored in a .csv format, I used Pandas DataFrames. This seems like the obvious choice when managing and manipulating data stored in a tabular format. It allows the user to open .csv files of various encodings, manage encoding errors, and directly access values within specific cells of a dataframe to manipulate, for a variety of data types.\n",
    "\n",
    "Although this first part is specifically for loading the data, I also conducted a little bit of preliminary investigation into the raw data, to gain an understanding of what some of the steps might be required in preprocessing.\n",
    "\n",
    "To start off, I import pandas."
   ]
  },
  {
   "cell_type": "code",
   "execution_count": null,
   "metadata": {},
   "outputs": [],
   "source": [
    "# Import Pandas\n",
    "import pandas as pd"
   ]
  },
  {
   "cell_type": "markdown",
   "metadata": {},
   "source": [
    "Next, I use the `.read_csv()` function to read the dataset into a `DataFrame` object from the .csv file it is stored in.\n",
    "\n",
    "*Please note: A sample of the full dataset has been used in the repository for brevity. Full dataset size is > 9GB*"
   ]
  },
  {
   "cell_type": "code",
   "execution_count": null,
   "metadata": {},
   "outputs": [],
   "source": [
    "# Read .csv as DataFrame object\n",
    "df = pd.read_csv(\"./data/raw/song_lyrics_sampled.csv\")"
   ]
  }
 ],
 "metadata": {
  "language_info": {
   "name": "python"
  }
 },
 "nbformat": 4,
 "nbformat_minor": 2
}
